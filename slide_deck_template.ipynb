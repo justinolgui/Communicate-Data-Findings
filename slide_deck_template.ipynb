{
 "cells": [
  {
   "cell_type": "markdown",
   "metadata": {
    "slideshow": {
     "slide_type": "slide"
    }
   },
   "source": [
    "# Prosper Loan Data Analysis\n",
    "## by Justin Olgui"
   ]
  },
  {
   "cell_type": "markdown",
   "metadata": {
    "slideshow": {
     "slide_type": "slide"
    }
   },
   "source": [
    "## Investigation Overview\n",
    "\n",
    "The objective of this presentation is to demonstrate some important relationship that influence APR.\n",
    "\n",
    "## Dataset Overview\n",
    "\n",
    "This dataset contains data from over 100,000 prosper loans.\n",
    "Each row contains information about a specific loan that was funded through the Prosper marketplace.\n",
    "\n",
    "#### Who is prosper?\n",
    "\n",
    "Prosper is a San Francisco based company in the peer-to-peer lending marketplace in the United States. Since 2005, Prosper has facilitated more than $15 billion in loans to more than 930,000 people.\n",
    "\n",
    "#### What is peer2peer lending?\n",
    "\n",
    "For those who are not familiar, Prosper does not actually lend money, they essentially provide a marketplace for lenders and borrowers to meet, think online dating for loans. As a prospective borrower, you would go through the process of filling out an application, why do you want money, how much do you make, are you employed and so on. They will then assign you a Prosperscore and put your loan up on their marketplace at which point lenders who are looking for higher rate investment returns can choose to fund a portion, or the entirety of your loan. Some of the information on our borrower includes but is not limited to APR, Employment status, credit rating, term, occupation, etc. "
   ]
  },
  {
   "cell_type": "code",
   "execution_count": 2,
   "metadata": {
    "slideshow": {
     "slide_type": "skip"
    }
   },
   "outputs": [],
   "source": [
    "# import all packages and set plots to be embedded inline\n",
    "import numpy as np\n",
    "import pandas as pd\n",
    "import matplotlib.pyplot as plt\n",
    "import seaborn as sb\n",
    "\n",
    "%matplotlib inline\n",
    "\n",
    "# suppress warnings from final output\n",
    "import warnings\n",
    "warnings.simplefilter(\"ignore\")"
   ]
  },
  {
   "cell_type": "code",
   "execution_count": 6,
   "metadata": {
    "slideshow": {
     "slide_type": "skip"
    }
   },
   "outputs": [
    {
     "data": {
      "text/html": [
       "<div>\n",
       "<style scoped>\n",
       "    .dataframe tbody tr th:only-of-type {\n",
       "        vertical-align: middle;\n",
       "    }\n",
       "\n",
       "    .dataframe tbody tr th {\n",
       "        vertical-align: top;\n",
       "    }\n",
       "\n",
       "    .dataframe thead th {\n",
       "        text-align: right;\n",
       "    }\n",
       "</style>\n",
       "<table border=\"1\" class=\"dataframe\">\n",
       "  <thead>\n",
       "    <tr style=\"text-align: right;\">\n",
       "      <th></th>\n",
       "      <th>ListingCreationDate</th>\n",
       "      <th>CreditScoreMean</th>\n",
       "      <th>ProsperScore</th>\n",
       "      <th>Term</th>\n",
       "      <th>MonthlyLoanPayment</th>\n",
       "      <th>StatedMonthlyIncome</th>\n",
       "      <th>BorrowerAPR</th>\n",
       "      <th>DebtToIncomeRatio</th>\n",
       "      <th>RevolvingCreditBalance</th>\n",
       "      <th>BorrowerState</th>\n",
       "      <th>ListingCategory</th>\n",
       "      <th>Quarters</th>\n",
       "      <th>Year</th>\n",
       "    </tr>\n",
       "  </thead>\n",
       "  <tbody>\n",
       "    <tr>\n",
       "      <th>0</th>\n",
       "      <td>2007-08-26 19:09:29.263</td>\n",
       "      <td>649.5</td>\n",
       "      <td>NaN</td>\n",
       "      <td>36</td>\n",
       "      <td>330.43</td>\n",
       "      <td>3083.333333</td>\n",
       "      <td>0.16516</td>\n",
       "      <td>0.17</td>\n",
       "      <td>0.0</td>\n",
       "      <td>CO</td>\n",
       "      <td>Not Available</td>\n",
       "      <td>2007Q3</td>\n",
       "      <td>2007</td>\n",
       "    </tr>\n",
       "    <tr>\n",
       "      <th>1</th>\n",
       "      <td>2014-02-27 08:28:07.900</td>\n",
       "      <td>689.5</td>\n",
       "      <td>7.0</td>\n",
       "      <td>36</td>\n",
       "      <td>318.93</td>\n",
       "      <td>6125.000000</td>\n",
       "      <td>0.12016</td>\n",
       "      <td>0.18</td>\n",
       "      <td>3989.0</td>\n",
       "      <td>CO</td>\n",
       "      <td>Home Improvement</td>\n",
       "      <td>2014Q1</td>\n",
       "      <td>2014</td>\n",
       "    </tr>\n",
       "    <tr>\n",
       "      <th>2</th>\n",
       "      <td>2012-10-22 11:02:35.010</td>\n",
       "      <td>809.5</td>\n",
       "      <td>9.0</td>\n",
       "      <td>36</td>\n",
       "      <td>321.45</td>\n",
       "      <td>2875.000000</td>\n",
       "      <td>0.12528</td>\n",
       "      <td>0.15</td>\n",
       "      <td>1444.0</td>\n",
       "      <td>GA</td>\n",
       "      <td>Motorcycle</td>\n",
       "      <td>2012Q4</td>\n",
       "      <td>2012</td>\n",
       "    </tr>\n",
       "    <tr>\n",
       "      <th>3</th>\n",
       "      <td>2013-09-14 18:38:39.097</td>\n",
       "      <td>689.5</td>\n",
       "      <td>4.0</td>\n",
       "      <td>36</td>\n",
       "      <td>563.97</td>\n",
       "      <td>9583.333333</td>\n",
       "      <td>0.24614</td>\n",
       "      <td>0.26</td>\n",
       "      <td>6193.0</td>\n",
       "      <td>MN</td>\n",
       "      <td>Home Improvement</td>\n",
       "      <td>2013Q3</td>\n",
       "      <td>2013</td>\n",
       "    </tr>\n",
       "    <tr>\n",
       "      <th>4</th>\n",
       "      <td>2013-12-14 08:26:37.093</td>\n",
       "      <td>749.5</td>\n",
       "      <td>10.0</td>\n",
       "      <td>60</td>\n",
       "      <td>342.37</td>\n",
       "      <td>8333.333333</td>\n",
       "      <td>0.15425</td>\n",
       "      <td>0.36</td>\n",
       "      <td>62999.0</td>\n",
       "      <td>NM</td>\n",
       "      <td>Debt Consolidation</td>\n",
       "      <td>2013Q4</td>\n",
       "      <td>2013</td>\n",
       "    </tr>\n",
       "  </tbody>\n",
       "</table>\n",
       "</div>"
      ],
      "text/plain": [
       "       ListingCreationDate  CreditScoreMean  ProsperScore  Term  \\\n",
       "0  2007-08-26 19:09:29.263            649.5           NaN    36   \n",
       "1  2014-02-27 08:28:07.900            689.5           7.0    36   \n",
       "2  2012-10-22 11:02:35.010            809.5           9.0    36   \n",
       "3  2013-09-14 18:38:39.097            689.5           4.0    36   \n",
       "4  2013-12-14 08:26:37.093            749.5          10.0    60   \n",
       "\n",
       "   MonthlyLoanPayment  StatedMonthlyIncome  BorrowerAPR  DebtToIncomeRatio  \\\n",
       "0              330.43          3083.333333      0.16516               0.17   \n",
       "1              318.93          6125.000000      0.12016               0.18   \n",
       "2              321.45          2875.000000      0.12528               0.15   \n",
       "3              563.97          9583.333333      0.24614               0.26   \n",
       "4              342.37          8333.333333      0.15425               0.36   \n",
       "\n",
       "   RevolvingCreditBalance BorrowerState     ListingCategory Quarters  Year  \n",
       "0                     0.0            CO       Not Available   2007Q3  2007  \n",
       "1                  3989.0            CO    Home Improvement   2014Q1  2014  \n",
       "2                  1444.0            GA          Motorcycle   2012Q4  2012  \n",
       "3                  6193.0            MN    Home Improvement   2013Q3  2013  \n",
       "4                 62999.0            NM  Debt Consolidation   2013Q4  2013  "
      ]
     },
     "execution_count": 6,
     "metadata": {},
     "output_type": "execute_result"
    }
   ],
   "source": [
    "# Load csv into dataframe\n",
    "df = pd.read_csv('prosper_final.csv')\n",
    "df.head()"
   ]
  },
  {
   "cell_type": "markdown",
   "metadata": {
    "slideshow": {
     "slide_type": "notes"
    }
   },
   "source": [
    "> Note that the above cells have been set as \"Skip\"-type slides. That means\n",
    "that when the notebook is rendered as http slides, those cells won't show up."
   ]
  },
  {
   "cell_type": "markdown",
   "metadata": {
    "slideshow": {
     "slide_type": "slide"
    }
   },
   "source": [
    "## APR\n",
    "\n",
    "Before we introduce other variables I believe it's important to look at it an isolation to understand what might be considered normal. APR is almost normally distributed, however it does have a slight right skew. With a large amount of loans in the 0.35 - 0.375 range. Our mean APR is 21.96"
   ]
  },
  {
   "cell_type": "code",
   "execution_count": 10,
   "metadata": {
    "scrolled": true,
    "slideshow": {
     "slide_type": "subslide"
    }
   },
   "outputs": [
    {
     "data": {
      "image/png": "[encoded data removed]",
      "text/plain": [
       "<Figure size 504x504 with 1 Axes>"
      ]
     },
     "metadata": {},
     "output_type": "display_data"
    }
   ],
   "source": [
    "# Using Hist to plot our distribution for APR\n",
    "sb.set(style=\"darkgrid\")\n",
    "bins = np.arange(0.05, 0.45, 0.025)\n",
    "plt.figure(figsize=(7, 7))\n",
    "plt.hist(data = df, x = 'BorrowerAPR', bins=bins)\n",
    "plt.title('Distribution of Loan Annual Percentage Rate (APR)')\n",
    "plt.xlabel('Loan APR')\n",
    "plt.ylabel('Loans (count)');"
   ]
  },
  {
   "cell_type": "code",
   "execution_count": 19,
   "metadata": {},
   "outputs": [
    {
     "data": {
      "text/plain": [
       "0.219619974071605"
      ]
     },
     "execution_count": 19,
     "metadata": {},
     "output_type": "execute_result"
    }
   ],
   "source": [
    "df.BorrowerAPR.mean()"
   ]
  },
  {
   "cell_type": "markdown",
   "metadata": {
    "collapsed": true,
    "slideshow": {
     "slide_type": "slide"
    }
   },
   "source": [
    "## (Visualization 2)\n",
    "\n",
    "> You should have at least three visualizations in your presentation,\n",
    "but feel free to add more if you'd like!"
   ]
  },
  {
   "cell_type": "code",
   "execution_count": null,
   "metadata": {
    "slideshow": {
     "slide_type": "subslide"
    }
   },
   "outputs": [],
   "source": []
  },
  {
   "cell_type": "markdown",
   "metadata": {
    "slideshow": {
     "slide_type": "slide"
    }
   },
   "source": [
    "## (Visualization 3)\n",
    "\n"
   ]
  },
  {
   "cell_type": "code",
   "execution_count": null,
   "metadata": {
    "slideshow": {
     "slide_type": "subslide"
    }
   },
   "outputs": [],
   "source": []
  },
  {
   "cell_type": "markdown",
   "metadata": {
    "slideshow": {
     "slide_type": "notes"
    }
   },
   "source": [
    "> Once you're ready to finish your presentation, check your output by using\n",
    "nbconvert to export the notebook and set up a server for the slides. From the\n",
    "terminal or command line, use the following expression:\n",
    "> > `jupyter nbconvert <file_name>.ipynb --to slides --post serve --template output_toggle`\n",
    "\n",
    "> This should open a tab in your web browser where you can scroll through your\n",
    "presentation. Sub-slides can be accessed by pressing 'down' when viewing its parent\n",
    "slide. Make sure you remove all of the quote-formatted guide notes like this one\n",
    "before you finish your presentation!"
   ]
  },
  {
   "cell_type": "code",
   "execution_count": null,
   "metadata": {},
   "outputs": [],
   "source": []
  }
 ],
 "metadata": {
  "celltoolbar": "Slideshow",
  "kernelspec": {
   "display_name": "Python 3",
   "language": "python",
   "name": "python3"
  },
  "language_info": {
   "codemirror_mode": {
    "name": "ipython",
    "version": 3
   },
   "file_extension": ".py",
   "mimetype": "text/x-python",
   "name": "python",
   "nbconvert_exporter": "python",
   "pygments_lexer": "ipython3",
   "version": "3.7.3"
  }
 },
 "nbformat": 4,
 "nbformat_minor": 2
}
