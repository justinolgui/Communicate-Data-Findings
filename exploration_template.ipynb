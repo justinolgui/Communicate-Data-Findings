{
 "cells": [
  {
   "cell_type": "markdown",
   "metadata": {},
   "source": [
    "# Udacity - Communicate Data Findings (Dataset: Loan Data from Prosper)\n",
    "## by Justin Olgui\n",
    "\n",
    "## Preliminary Wrangling\n",
    "\n",
    "This dataset contains data from over 100,000 prosper loans. <br>\n",
    "Each row contains information about a specific loan that was funded through the Prosper marketplace. <br>\n",
    "\n",
    "Who is prosper? <br>\n",
    "Prosper is a San Francisco based company in the peer-to-peer lending marketplace in the United States. Since 2005, Prosper has facilitated more than $15 billion in loans to more than 930,000 people. <br>\n",
    "\n",
    "What is peer2peer lending? <br>\n",
    "For those who are not familiar, Prosper does not actually lend money, they essentially provide a marketplace for lenders and borrowers to meet, think online dating for loans. As a prospective borrower, you would go through the process of filling out an application, why do you want money, how much do you make, are you employed and so on. They will then assign you a Prosperscore and put your loan up on their marketplace at which point lenders who are looking for higher rate investment returns can choose to fund a portion, or the entirety of your loan. Some of the information on our borrower includes but is not limited to APR, Employment status, credit rating, term, occupation, etc. "
   ]
  },
  {
   "cell_type": "code",
   "execution_count": null,
   "metadata": {},
   "outputs": [],
   "source": [
    "# import all packages and set plots to be embedded inline\n",
    "import numpy as np\n",
    "import pandas as pd\n",
    "import matplotlib.pyplot as plt\n",
    "import seaborn as sb\n",
    "import warnings\n",
    "warnings.filterwarnings('ignore')\n",
    "\n",
    "%matplotlib inline"
   ]
  },
  {
   "cell_type": "code",
   "execution_count": null,
   "metadata": {},
   "outputs": [],
   "source": [
    "# Load csv into dataframe\n",
    "Loan_df = pd.read_csv('prosperLoanData.csv')"
   ]
  },
  {
   "cell_type": "code",
   "execution_count": null,
   "metadata": {
    "scrolled": true
   },
   "outputs": [],
   "source": [
    "# Check to ensure it was read in properly\n",
    "pd.set_option('display.max_columns', 81)\n",
    "Loan_df.head()"
   ]
  },
  {
   "cell_type": "code",
   "execution_count": null,
   "metadata": {},
   "outputs": [],
   "source": [
    "#Checking out the structure of our dataset\n",
    "Loan_df.shape"
   ]
  },
  {
   "cell_type": "code",
   "execution_count": null,
   "metadata": {},
   "outputs": [],
   "source": [
    "# Checking out the dataset's info\n",
    "Loan_df.info()"
   ]
  },
  {
   "cell_type": "markdown",
   "metadata": {},
   "source": [
    "### What is the structure of your dataset?\n",
    "\n",
    "This dataset contains 113937 loans with 81 different variables. <br>\n",
    "Our column definitions can be found in \"Prosper Loan Data - Columns Definitions.csv\"\n",
    "\n",
    "### What are the main features of interest in your dataset?\n",
    "\n",
    "Through our exploration i'm wanting to answer some of the following questions I have:\n",
    "    \n",
    "    - Who are the borrowers? (financial health, income levels, debt ratios, etc.)\n",
    "    - Why are they borrowing money?\n",
    "    - How much are they paying in interest?\n",
    "    - Are these metrics changing over time?\n",
    "    \n",
    "My objective is to better understand borrower behavior, what are their needs and why are they choosing p2p lending.\n",
    "\n",
    "### What features in the dataset do you think will help support your investigation into your features of interest?\n",
    "\n",
    "This dataset is filled with a ton of personal information on our borrowers. Some of the standard finance metrics are quite helpful on their own. (DebtToIncomeRatio, CreditGrade, StatedMonthlyIncome, RevolvingCreditBalance, BorrowerAPR, etc.) However by combining these variables I think we should be able to gather some interesting insights and better understanding our borrowers."
   ]
  },
  {
   "cell_type": "code",
   "execution_count": null,
   "metadata": {},
   "outputs": [],
   "source": [
    "''' \n",
    "I'll begin by creating a new column CreditScoreMean.\n",
    "This column will be the mean of CreditScoreRangeLower and CreditScoreRangeUpper.\n",
    "The purpose is to reduce the total number of variables i'm using in my analysis.\n",
    "'''\n",
    "Loan_df['CreditScoreMean'] = Loan_df[['CreditScoreRangeLower', 'CreditScoreRangeUpper']].mean(axis=1)"
   ]
  },
  {
   "cell_type": "code",
   "execution_count": null,
   "metadata": {},
   "outputs": [],
   "source": [
    "# We'll now condense our dataset as it is not feasible to use all 81 variables\n",
    "Condensed_prosper = Loan_df[['ListingCreationDate', 'CreditScoreMean', 'ProsperScore', 'Term', 'MonthlyLoanPayment', \\\n",
    "                             'StatedMonthlyIncome', 'BorrowerAPR', 'DebtToIncomeRatio','RevolvingCreditBalance', \\\n",
    "                             'BorrowerState', 'ListingCategory (numeric)']]                           \n",
    "                            "
   ]
  },
  {
   "cell_type": "markdown",
   "metadata": {},
   "source": [
    "# Variable Defintions\n",
    "\n",
    "Taken from our Prosper Loan Data - Columns Definitions.csv that was provided with the dataset I will now define the individual variables i have selected for my analysis:\n",
    "\n",
    "__CreditScoreMean:__ This column is the mean of CreditScoreRangeLower and CreditScoreRangeUpper.<br>\n",
    "\n",
    "__ProsperScore:__ A custom risk score built using historical Prosper data. The score ranges from 1-10, with 10 being the best, or lowest risk score.  Applicable for loans originated after July 2009.<br>\n",
    "\n",
    "__Term:__ The length of the loan expressed in months.<br>\n",
    "\n",
    "__MonthlyLoanPayment:__ The scheduled monthly loan payment.<br>\n",
    "\n",
    "__StatedMonthlyIncome:__ The monthly income the borrower stated at the time the listing was created.<br>\n",
    "\n",
    "__BorrowerAPR:__ The Borrower's Annual Percentage Rate (APR) for the loan.<br>\n",
    "\n",
    "__DebtToIncomeRatio:__ The debt to income ratio of the borrower at the time the credit profile was pulled. This value is Null if the debt to income ratio is not available. This value is capped at 10.01 (any debt to income ratio larger than 1000% will be returned as 1001%).<br>\n",
    "\n",
    "__RevolvingCreditBalance:__ Dollars of revolving credit at the time the credit profile was pulled.<br>\n",
    "\n",
    "__BorrowerState:__ The two letter abbreviation of the state of the address of the borrower at the time the Listing was created.<br>\n",
    "\n",
    "__ListingCategory:__ Determines the category of loan that the borrower needs money for.<br>"
   ]
  },
  {
   "cell_type": "markdown",
   "metadata": {},
   "source": [
    "## Univariate Exploration\n",
    "\n",
    "We'll begin our analysis by plotting distributions for each of our individual variables we have selected. Each variable helps us to better understand one aspect of our individual borrowers. Plotting a distribution will give us insights into the group as a whole."
   ]
  },
  {
   "cell_type": "code",
   "execution_count": null,
   "metadata": {},
   "outputs": [],
   "source": [
    "#We'll check to see we got all the right information\n",
    "Condensed_prosper.head()"
   ]
  },
  {
   "cell_type": "code",
   "execution_count": null,
   "metadata": {},
   "outputs": [],
   "source": [
    "# calling info to review our columns\n",
    "Condensed_prosper.info()"
   ]
  },
  {
   "cell_type": "code",
   "execution_count": null,
   "metadata": {
    "scrolled": true
   },
   "outputs": [],
   "source": [
    "#convert to datetime\n",
    "Condensed_prosper['ListingCreationDate'] = pd.to_datetime(Condensed_prosper.ListingCreationDate)"
   ]
  },
  {
   "cell_type": "code",
   "execution_count": null,
   "metadata": {},
   "outputs": [],
   "source": [
    "# Create a new series and then convert to Quarters\n",
    "quarters = pd.Series(Condensed_prosper['ListingCreationDate'])\n",
    "quarters = pd.PeriodIndex(quarters, freq='Q')"
   ]
  },
  {
   "cell_type": "code",
   "execution_count": null,
   "metadata": {
    "scrolled": false
   },
   "outputs": [],
   "source": [
    "# Add a new column to our DF\n",
    "Condensed_prosper['Quarters'] = quarters"
   ]
  },
  {
   "cell_type": "code",
   "execution_count": null,
   "metadata": {},
   "outputs": [],
   "source": [
    "# Grab the unique values in our quarters column\n",
    "quarters = Condensed_prosper['Quarters'].unique()"
   ]
  },
  {
   "cell_type": "code",
   "execution_count": null,
   "metadata": {},
   "outputs": [],
   "source": [
    "# Sort our list in chronological order\n",
    "quarters = sorted(quarters)"
   ]
  },
  {
   "cell_type": "code",
   "execution_count": null,
   "metadata": {
    "scrolled": false
   },
   "outputs": [],
   "source": [
    "#Draw our distribution\n",
    "plt.figure(figsize=(12, 9))\n",
    "sb.set(style=\"darkgrid\")\n",
    "sb.set(font_scale=1.12)\n",
    "sb.countplot(x='Quarters', data=Condensed_prosper, color=\"darkblue\", order=quarters);\n",
    "plt.xticks(rotation=90);\n",
    "plt.title('Loan Origination by Quarter');"
   ]
  },
  {
   "cell_type": "markdown",
   "metadata": {},
   "source": [
    "The first thing that jumps out to me is that at Q3 of 2008 prosper loans essentially fell off a cliff. The timing is peculiar because this is when the economic crisis of 2008 came to light, this was no coincidence. Prosper was clearly hit hard by this economic downturn. Since then Prosper has experienced some serious growth. Aside from the Q4 2012 and the Q1 2013 prosper loans have increased quarter over quarter since 2010 at what appears to be a parabolic rate. Let's now inspect the credit worthiness of our borrowers."
   ]
  },
  {
   "cell_type": "code",
   "execution_count": null,
   "metadata": {
    "scrolled": true
   },
   "outputs": [],
   "source": [
    "# Let's use describe to determine what will be the best bin sizes\n",
    "Condensed_prosper['CreditScoreMean'].describe()"
   ]
  },
  {
   "cell_type": "code",
   "execution_count": null,
   "metadata": {
    "scrolled": false
   },
   "outputs": [],
   "source": [
    "#Plotting our distribution for CreditScoreMean\n",
    "bins =np.arange(500, 900, 20)\n",
    "plt.figure(figsize=(10, 8))\n",
    "plt.hist(data = Condensed_prosper, x = 'CreditScoreMean', bins=bins);\n",
    "plt.title('Borrowers Credit Score');\n",
    "plt.xlabel('Credit Score')\n",
    "plt.ylabel('Borrowers (count)');"
   ]
  },
  {
   "cell_type": "markdown",
   "metadata": {},
   "source": [
    "This plot is for the most part normally distributed with the majority of borrowers having a credit score between 650 and 750. Our mode falls just below the 700 mark. According to Experian which is one of the credit report agencies in the US: \"a credit score of 700 or above is generally considered good. A score of 800 or above on the same range is considered to be excellent. Most credit scores fall between 600 and 750.\" We actually have very few in the 600-650 range. I think it's fair to say that our borrowers are slightly above average. Credit score has long been considered the gold standard in determining a borrower's credit worthiness. Let's see how this compares to the relatively new prosper score."
   ]
  },
  {
   "cell_type": "code",
   "execution_count": null,
   "metadata": {},
   "outputs": [],
   "source": [
    "#Plotting our distribution for ProsperScore\n",
    "bins =np.arange(1, 13, 1)\n",
    "plt.figure(figsize=(6, 8))\n",
    "plt.hist(data = Condensed_prosper, x = 'ProsperScore', bins=bins);\n",
    "plt.title(\"Loan ProsperScore\");\n",
    "plt.xlabel('Prosper Score')\n",
    "plt.ylabel('Loans (count)');"
   ]
  },
  {
   "cell_type": "markdown",
   "metadata": {},
   "source": [
    "This prosperscore is quite interesting, our mode is a 4 which is quite low. This indicates that most loans are considered to be high risk. This is telling us a very different story from our credit rating. Let's have a look at our Term variable to see how long most loans are. "
   ]
  },
  {
   "cell_type": "code",
   "execution_count": null,
   "metadata": {},
   "outputs": [],
   "source": [
    "# Using Hist to plot our distribution for term\n",
    "plt.hist(data = Condensed_prosper, x = 'Term');\n",
    "plt.title('Loan Term')\n",
    "plt.xlabel('Number of Months')\n",
    "plt.ylabel('Loans (count)');"
   ]
  },
  {
   "cell_type": "markdown",
   "metadata": {},
   "source": [
    "Prosper loans are given in 12, 36 and 60 month terms. It's clear that the majority of our borrowers are opting for a 36 month term. We shall now have a look at what the typical interest rate of a prosper loan is."
   ]
  },
  {
   "cell_type": "code",
   "execution_count": null,
   "metadata": {},
   "outputs": [],
   "source": [
    "# Let's use describe so we can find out what might be the best choice for our bins\n",
    "Condensed_prosper['MonthlyLoanPayment'].describe()"
   ]
  },
  {
   "cell_type": "code",
   "execution_count": null,
   "metadata": {},
   "outputs": [],
   "source": [
    "# Using Hist to plot our distribution for MonthlyLoanPayment\n",
    "bins = np.arange(1, 1000, 50)\n",
    "plt.figure(figsize=(8, 8))\n",
    "plt.hist(data = Condensed_prosper, x = 'MonthlyLoanPayment', bins=bins);\n",
    "plt.title('Distribution of Monthly Loan payments')\n",
    "plt.xlabel('Monthly Loan Payment')\n",
    "plt.ylabel('Loans (count)');"
   ]
  },
  {
   "cell_type": "markdown",
   "metadata": {},
   "source": [
    "The majority of prosper loans monthly payments are below 400, with the highest frequency falling between 150-200. Depending on what other debts a borrower may have these payment amount seem to be quite sustainable and shouldn't have too much of an impact on a borrower's ability to repay. To better understand the impact these payments might have it seems reasonable to next understand the income levels of our borrowers."
   ]
  },
  {
   "cell_type": "code",
   "execution_count": null,
   "metadata": {},
   "outputs": [],
   "source": [
    "# Once again using describe to determine appropriate bins\n",
    "Condensed_prosper['StatedMonthlyIncome'].describe()"
   ]
  },
  {
   "cell_type": "code",
   "execution_count": null,
   "metadata": {},
   "outputs": [],
   "source": [
    "# Using Hist to plot our distribution for StatedMonthlyIncome\n",
    "bins = np.arange(1, 15000, 500)\n",
    "plt.figure(figsize=(8, 8))\n",
    "plt.hist(data = Condensed_prosper, x = 'StatedMonthlyIncome',bins=bins)\n",
    "plt.title(\"Distribution of Borrower's Income\")\n",
    "plt.xlabel('Monthly Income')\n",
    "plt.ylabel('Borrowers (count)');"
   ]
  },
  {
   "cell_type": "markdown",
   "metadata": {},
   "source": [
    "It appears as thouugh most of our borrowers have a monthly income of roughly 5,000. This distribution is right skewed with some long tails. Kind of interesting that some of our borrowers have a monthly income over 10K and are choosing to turn towards the P2P lending market. This is self reported income though so who knows how accurate this is. Considering most of the monthly loan payments are around 300 this shouldn't put too much stress on our borrowers. However without knowing what other expenses a borrower has it's hard to make this claim with any certainty. Next I'd like to explore APR to see how much interest our borrowers are paying. "
   ]
  },
  {
   "cell_type": "code",
   "execution_count": null,
   "metadata": {},
   "outputs": [],
   "source": [
    "#Let's use describe to see how we may place our bins.\n",
    "Condensed_prosper['BorrowerAPR'].describe()"
   ]
  },
  {
   "cell_type": "code",
   "execution_count": null,
   "metadata": {},
   "outputs": [],
   "source": [
    "# Using Hist to plot our distribution for APR\n",
    "bins = np.arange(0.05, 0.45, 0.025)\n",
    "plt.figure(figsize=(7, 7))\n",
    "plt.hist(data = Condensed_prosper, x = 'BorrowerAPR', bins=bins)\n",
    "plt.title('Distribution of Loan Annual Percentage Rate (APR)')\n",
    "plt.xlabel('Loan APR')\n",
    "plt.ylabel('Loans (count)');"
   ]
  },
  {
   "cell_type": "markdown",
   "metadata": {},
   "source": [
    "Our distribution here is almost normally distributed, however it does have a slight right skew. With a large amount of loans in the 0.35 - 0.375 range. The mode is between 0.2 - 0.25, our borrowers must be pretty desperate to accept these loans. These rates are worse than pretty much every credit card there is on the market. A loan with an APR above 0.35 is pretty much usury. Let's have a look at their debt to income ratio to see if we can better understand the financial situation of our borrowers. "
   ]
  },
  {
   "cell_type": "code",
   "execution_count": null,
   "metadata": {},
   "outputs": [],
   "source": [
    "#Let's use describe to see how we may place our bins.\n",
    "Condensed_prosper['DebtToIncomeRatio'].describe()"
   ]
  },
  {
   "cell_type": "code",
   "execution_count": null,
   "metadata": {
    "scrolled": false
   },
   "outputs": [],
   "source": [
    "# Using Hist to plot our distribution for DebtToIncomeRatio\n",
    "bins = np.arange(0.05, 0.55, 0.04)\n",
    "plt.figure(figsize=(7, 7))\n",
    "plt.hist(data = Condensed_prosper, x = 'DebtToIncomeRatio', bins=bins)\n",
    "plt.title('Distribution of Borrowers Debt to Income Ratio')\n",
    "plt.xlabel('Debt to Income Ratio')\n",
    "plt.ylabel('Loans (count)');"
   ]
  },
  {
   "cell_type": "markdown",
   "metadata": {},
   "source": [
    "This distribution is once again right skewed like the last few we have explored. This is quite surprising to be honest. Based on standard finance metrics the majority of these people seem to be in pretty good financial health. Typically if you have a DTI below 0.36 it's considered to be quite good. The mode of our distribution is below 0.2, I'm quite curious to know why these people are turning to the P2P markets. Could this be the result of strict lending criteria, a lack of financial literacy or is the typical loan approval process just too onerous for our borrowers? Next let's explore how much are these borrowers carrying in revolving balances."
   ]
  },
  {
   "cell_type": "code",
   "execution_count": null,
   "metadata": {},
   "outputs": [],
   "source": [
    "#Using describe to better determine bin placement\n",
    "Condensed_prosper['RevolvingCreditBalance'].describe()"
   ]
  },
  {
   "cell_type": "code",
   "execution_count": null,
   "metadata": {},
   "outputs": [],
   "source": [
    "# Using Hist to plot our distribution for APR\n",
    "bins = np.arange(0, 80000, 5000)\n",
    "plt.figure(figsize=(7, 7))\n",
    "plt.hist(data = Condensed_prosper, x = 'RevolvingCreditBalance', bins=bins)\n",
    "plt.title('Distribution of Revolving Credit Balance')\n",
    "plt.xlabel('Revolving Credit Bal')\n",
    "plt.ylabel('count');"
   ]
  },
  {
   "cell_type": "markdown",
   "metadata": {},
   "source": [
    "Once again, yet another heavily right skewed distribution. It appears as though most of our borrowers have less than 5,000 in revolving credit balances. This data is counterintuitive, our borrowers seem to be in a pretty good financial situation, and pretty well safeguarded against a financial disaster. Let's find out where our borrowers are located."
   ]
  },
  {
   "cell_type": "code",
   "execution_count": null,
   "metadata": {},
   "outputs": [],
   "source": [
    "#Grab the top 20 states where our borrowers are located in from our dataset\n",
    "State = Condensed_prosper['BorrowerState'].value_counts()[:20]"
   ]
  },
  {
   "cell_type": "code",
   "execution_count": null,
   "metadata": {},
   "outputs": [],
   "source": [
    "#Drawing our distribution for ProsperScore\n",
    "plt.figure(figsize=(10, 10))\n",
    "sb.set(style=\"darkgrid\")\n",
    "sb.set(font_scale=1.12)\n",
    "sb.countplot(x='BorrowerState', data=Condensed_prosper, color=\"darkblue\",order=Condensed_prosper['BorrowerState'].value_counts().iloc[:20].index);\n",
    "plt.title('Loans by State (Top 20)');\n"
   ]
  },
  {
   "cell_type": "markdown",
   "metadata": {},
   "source": [
    "It appears as though the majority of our borrowers hail from California, Texas, New York and Florida. This seems to coincide with the fact that these are some of the most densely populated states in the US. The last variable I would like to explore is the Listing Category to better understand why our borrowers are tsking out loans."
   ]
  },
  {
   "cell_type": "code",
   "execution_count": null,
   "metadata": {},
   "outputs": [],
   "source": [
    "# Rename column to Listing Category and change to string\n",
    "Condensed_prosper.rename(columns={'ListingCategory (numeric)': 'ListingCategory'}, inplace=True)\n",
    "Condensed_prosper['ListingCategory'] = Condensed_prosper['ListingCategory'].astype('str')"
   ]
  },
  {
   "cell_type": "code",
   "execution_count": null,
   "metadata": {},
   "outputs": [],
   "source": [
    "# Replace our numerical categories with their appropriate definitions then convert the data type to categorical\n",
    "cat_names = {'0': 'Not Available', '1': 'Debt Consolidation', '2': 'Home Improvement', '3': 'Business', '4': 'Personal Loan', '5': 'Student Use', '6': 'Auto', '7': 'Other', '8': 'Baby&Adoption', '9': 'Boat', '10': 'Cosmetic Procedure', '11': 'Engagement Ring', '12': 'Green Loans', '13': 'Household Expenses', '14': 'Large Purchases', '15': 'Medical/Dental', '16': 'Motorcycle', '17': 'RV', '18': 'Taxes', '19': 'Vacation', '20': 'Wedding Loans'}\n",
    "Condensed_prosper['ListingCategory'].replace(cat_names, inplace=True)\n",
    "Condensed_prosper['ListingCategory'] = Condensed_prosper['ListingCategory'].astype('category')"
   ]
  },
  {
   "cell_type": "code",
   "execution_count": null,
   "metadata": {
    "scrolled": false
   },
   "outputs": [],
   "source": [
    "# Plot our loan category distribution \n",
    "plt.figure(figsize=(10, 8))\n",
    "pd.value_counts(Condensed_prosper['ListingCategory']).plot.bar(color='darkblue');\n",
    "plt.title('Distribution of Loan Categories');\n",
    "plt.xlabel('Loan Categories')\n",
    "plt.ylabel('Loans (count)');"
   ]
  },
  {
   "cell_type": "markdown",
   "metadata": {},
   "source": [
    "This chart just further confuses me, debt consolidation is more than 3 times the count of the next category. Unfortunately the next two are NA and Other which doesn't really provide us with much value. This chart in isolation looks good because you have people actively taking steps to improve their financial situation. On the other hand with a mean APR of nearly 22% you have to wonder what types of loans could they possibly be consolidating that would have a rate higher than that."
   ]
  },
  {
   "cell_type": "markdown",
   "metadata": {},
   "source": [
    "### Discuss the distributions of your variables of interest. Were there any unusual points? Did you need to perform any transformations?\n",
    "\n",
    "I found the exploration quite insightful, as I started my analysis I was quite confused as sone of the data points seem to be telling completely different stories. Once I got to the APR distribution I started to believe that these borrowers must be in severe financial trouble. However most of the other data showed otherwise, they had slightly above average credit scores, very good debt to income ratios and minimal revolving credit balances. They also seem quite financially responsible as they are being proactive in trying to improve their financial situations by opting to consolidate their debt. However with a mean APR of 21.8% these borrowers must have taken on some really bad loans in the past. \n",
    "\n",
    "### Of the features you investigated, were there any unusual distributions? Did you perform any operations on the data to tidy, adjust, or change the form of the data? If so, why did you do this?\n",
    "\n",
    "For the most part the dataset was quite clean and tidy so it required very little modifications from me. I did however add a Quarters column to group Listing dates by Quarter. I also created a new Credit Score column that is the mean of the Upper and Lower Credit Score range columns that were initially provided. Finally, I converted the Listing Category column to a categorical datatype and swapped out the numerical value they were given with the definition provided."
   ]
  },
  {
   "cell_type": "markdown",
   "metadata": {},
   "source": [
    "## Bivariate Exploration\n",
    "\n",
    "> In this section, investigate relationships between pairs of variables in your\n",
    "data. Make sure the variables that you cover here have been introduced in some\n",
    "fashion in the previous section (univariate exploration)."
   ]
  },
  {
   "cell_type": "markdown",
   "metadata": {},
   "source": [
    "We'll now move into some Bivariate Exploration to better understand some of the relationships that our variables possess."
   ]
  },
  {
   "cell_type": "code",
   "execution_count": null,
   "metadata": {
    "scrolled": false
   },
   "outputs": [],
   "source": [
    "#we'll use our correlation matrix to determine if there are any variables that are highly correlated\n",
    "\n",
    "plt.figure(figsize = [8,6])\n",
    "sb.heatmap(Condensed_prosper.corr(), annot = True, fmt = '.3f', cmap = 'coolwarm', center = 0)\n",
    "plt.title('Correlation matrix');"
   ]
  },
  {
   "cell_type": "markdown",
   "metadata": {},
   "source": [
    "BorrowerAPR and CreditScoreMean seem to be negatively correlated. BorrowerAPR and ProsperScore also seem to be negatively correlated. We'll dive deeper into those relationship to see what else we can find."
   ]
  },
  {
   "cell_type": "code",
   "execution_count": null,
   "metadata": {},
   "outputs": [],
   "source": [
    "# We'll use pairplot to see relationships amongst numerical variables\n",
    "g = sb.pairplot(Condensed_prosper[['ProsperScore', 'MonthlyLoanPayment', 'BorrowerAPR', 'DebtToIncomeRatio', 'RevolvingCreditBalance']])"
   ]
  },
  {
   "cell_type": "markdown",
   "metadata": {},
   "source": [
    "There doesn't seem to be any trends that are super obvious to me. Borrower APR seems to have an odd relationship to Debt to income ratio that may be worth exploring further."
   ]
  },
  {
   "cell_type": "code",
   "execution_count": null,
   "metadata": {},
   "outputs": [],
   "source": [
    "#use boxplot to further investigate APR vs Credit Scor\n",
    "plt.figure(figsize = [10,8])\n",
    "sb.boxplot(x = 'BorrowerAPR', y='CreditScoreMean', data = Condensed_prosper, color = \"royalblue\");\n",
    "plt.title('APR vs CreditScore');"
   ]
  },
  {
   "cell_type": "code",
   "execution_count": null,
   "metadata": {},
   "outputs": [],
   "source": []
  },
  {
   "cell_type": "code",
   "execution_count": null,
   "metadata": {},
   "outputs": [],
   "source": []
  },
  {
   "cell_type": "code",
   "execution_count": null,
   "metadata": {},
   "outputs": [],
   "source": []
  },
  {
   "cell_type": "code",
   "execution_count": null,
   "metadata": {},
   "outputs": [],
   "source": []
  },
  {
   "cell_type": "code",
   "execution_count": null,
   "metadata": {},
   "outputs": [],
   "source": []
  },
  {
   "cell_type": "code",
   "execution_count": null,
   "metadata": {},
   "outputs": [],
   "source": []
  },
  {
   "cell_type": "code",
   "execution_count": null,
   "metadata": {},
   "outputs": [],
   "source": []
  },
  {
   "cell_type": "code",
   "execution_count": null,
   "metadata": {},
   "outputs": [],
   "source": []
  },
  {
   "cell_type": "code",
   "execution_count": null,
   "metadata": {},
   "outputs": [],
   "source": []
  },
  {
   "cell_type": "code",
   "execution_count": null,
   "metadata": {},
   "outputs": [],
   "source": []
  },
  {
   "cell_type": "code",
   "execution_count": null,
   "metadata": {},
   "outputs": [],
   "source": []
  },
  {
   "cell_type": "markdown",
   "metadata": {},
   "source": [
    "### Talk about some of the relationships you observed in this part of the investigation. How did the feature(s) of interest vary with other features in the dataset?\n",
    "\n",
    "> Your answer here!\n",
    "\n",
    "### Did you observe any interesting relationships between the other features (not the main feature(s) of interest)?\n",
    "\n",
    "> Your answer here!"
   ]
  },
  {
   "cell_type": "markdown",
   "metadata": {},
   "source": [
    "## Multivariate Exploration\n",
    "\n",
    "> Create plots of three or more variables to investigate your data even\n",
    "further. Make sure that your investigations are justified, and follow from\n",
    "your work in the previous sections."
   ]
  },
  {
   "cell_type": "code",
   "execution_count": null,
   "metadata": {},
   "outputs": [],
   "source": []
  },
  {
   "cell_type": "markdown",
   "metadata": {},
   "source": [
    "### Talk about some of the relationships you observed in this part of the investigation. Were there features that strengthened each other in terms of looking at your feature(s) of interest?\n",
    "\n",
    "> Your answer here!\n",
    "\n",
    "### Were there any interesting or surprising interactions between features?\n",
    "\n",
    "> Your answer here!"
   ]
  },
  {
   "cell_type": "markdown",
   "metadata": {},
   "source": [
    "> At the end of your report, make sure that you export the notebook as an\n",
    "html file from the `File > Download as... > HTML` menu. Make sure you keep\n",
    "track of where the exported file goes, so you can put it in the same folder\n",
    "as this notebook for project submission. Also, make sure you remove all of\n",
    "the quote-formatted guide notes like this one before you finish your report!"
   ]
  },
  {
   "cell_type": "code",
   "execution_count": null,
   "metadata": {},
   "outputs": [],
   "source": []
  }
 ],
 "metadata": {
  "kernelspec": {
   "display_name": "Python 3",
   "language": "python",
   "name": "python3"
  }
 },
 "nbformat": 4,
 "nbformat_minor": 2
}
